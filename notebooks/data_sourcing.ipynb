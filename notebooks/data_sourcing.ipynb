{
 "cells": [
  {
   "cell_type": "code",
   "execution_count": null,
   "id": "318e496e",
   "metadata": {},
   "outputs": [],
   "source": [
    "import pandas as pd\n",
    "import numpy as np"
   ]
  },
  {
   "cell_type": "markdown",
   "id": "5fe5259b",
   "metadata": {},
   "source": [
    "## Première partie : Just eat"
   ]
  },
  {
   "cell_type": "code",
   "execution_count": null,
   "id": "4d005f56",
   "metadata": {},
   "outputs": [],
   "source": [
    "data_just_eat_1_12 = pd.read_csv(\"../raw_data/Ventes Fuzi/4 - Just Eat/20210630/order_archive_report__period_type_month_year_2020_number_12.csv\", sep=\";\" )\n",
    "data_just_eat_1_12"
   ]
  },
  {
   "cell_type": "code",
   "execution_count": null,
   "id": "515aaad2",
   "metadata": {},
   "outputs": [],
   "source": [
    "data_just_eat_1_1 = pd.read_csv(\"../raw_data/Ventes Fuzi/4 - Just Eat/20210630/order_archive_report__period_type_month_year_2021_number_1.csv\", sep=\";\" )\n",
    "data_just_eat_1_2 = pd.read_csv(\"../raw_data/Ventes Fuzi/4 - Just Eat/20210630/order_archive_report__period_type_month_year_2021_number_2.csv\", sep=\";\" )\n",
    "data_just_eat_1_3 = pd.read_csv(\"../raw_data/Ventes Fuzi/4 - Just Eat/20210630/order_archive_report__period_type_month_year_2021_number_3.csv\", sep=\";\" )\n",
    "data_just_eat_1_4 = pd.read_csv(\"../raw_data/Ventes Fuzi/4 - Just Eat/20210630/order_archive_report__period_type_month_year_2021_number_4.csv\", sep=\";\" )\n",
    "data_just_eat_1_5 = pd.read_csv(\"../raw_data/Ventes Fuzi/4 - Just Eat/20210630/order_archive_report__period_type_month_year_2021_number_5.csv\", sep=\";\" )\n",
    "data_just_eat_1_6 = pd.read_csv(\"../raw_data/Ventes Fuzi/4 - Just Eat/20210630/order_archive_report__period_type_month_year_2021_number_6.csv\", sep=\";\" )\n",
    "data_just_eat_1_7 = pd.read_csv(\"../raw_data/Ventes Fuzi/4 - Just Eat/20210831/order_archive_report__period_type_month_year_2021_number_7.csv\", sep=\";\" )\n",
    "data_just_eat_1_8 = pd.read_csv(\"../raw_data/Ventes Fuzi/4 - Just Eat/20210831/order_archive_report__period_type_month_year_2021_number_8.csv\", sep=\";\" )\n",
    "data_just_eat_1_9 = pd.read_csv(\"../raw_data/Ventes Fuzi/4 - Just Eat/20210930/september.csv\" ,sep=\";\")\n",
    "data_just_eat_1_10 = pd.read_csv(\"../raw_data/Ventes Fuzi/4 - Just Eat/20211030/order_archive_report__period_type_month_year_2021_number_10.csv\", sep=\";\" )\n",
    "data_just_eat = pd.concat([data_just_eat_1_1,data_just_eat_1_12,data_just_eat_1_2,data_just_eat_1_3,data_just_eat_1_4,data_just_eat_1_5,data_just_eat_1_6,data_just_eat_1_7,data_just_eat_1_8,data_just_eat_1_9,data_just_eat_1_10])\n",
    "\n",
    "\n"
   ]
  },
  {
   "cell_type": "code",
   "execution_count": null,
   "id": "7ed2d47b",
   "metadata": {},
   "outputs": [],
   "source": [
    "for row in range(len(data_just_eat)):\n",
    "    data_just_eat['Total amount'].replace(np.nan, data_just_eat['Total amount (total com inclu)'],inplace=True)\n",
    "data_just_eat = data_just_eat.drop(['Unnamed: 0', 'Total amount (total com inclu)'], axis=1)"
   ]
  },
  {
   "cell_type": "code",
   "execution_count": null,
   "id": "84ee7ff7",
   "metadata": {},
   "outputs": [],
   "source": [
    "data_just_eat.to_csv(\"../raw_data/Ventes Fuzi/fuzi_4_just_eat.csv\", encoding='utf-8', index=False)"
   ]
  },
  {
   "cell_type": "markdown",
   "id": "f302c4c5",
   "metadata": {},
   "source": [
    "## Deuxième partie : Stripe"
   ]
  },
  {
   "cell_type": "code",
   "execution_count": null,
   "id": "3064aaa0",
   "metadata": {},
   "outputs": [],
   "source": [
    "data_stripe_1 = pd.read_csv(\"../raw_data/Ventes Fuzi/3 - Stripe/20201218 - Export Stipe/balance_history.csv\")\n",
    "data_stripe_1"
   ]
  },
  {
   "cell_type": "code",
   "execution_count": null,
   "id": "ad4ffc42",
   "metadata": {},
   "outputs": [],
   "source": [
    "data_stripe_2 = pd.read_csv(\"../raw_data/Ventes Fuzi/3 - Stripe/20210131 - Export Stripe/balance_history.csv\",sep=\";\")\n",
    "data_stripe_2 = data_stripe_2[data_stripe_2[\"type\"] != \"payout\"]\n",
    "data_stripe_2 = data_stripe_2[data_stripe_2[\"type\"] != \"refund\"]\n",
    "data_stripe_2"
   ]
  },
  {
   "cell_type": "code",
   "execution_count": null,
   "id": "5c9ba4b6",
   "metadata": {},
   "outputs": [],
   "source": [
    "data_stripe_3 = pd.read_csv(\"../raw_data/Ventes Fuzi/3 - Stripe/20210331 - Export Stripe/unified_payments.csv\",sep=\",\")\n",
    "data_stripe_3.head(50)"
   ]
  },
  {
   "cell_type": "code",
   "execution_count": null,
   "id": "8f5efe5f",
   "metadata": {},
   "outputs": [],
   "source": []
  }
 ],
 "metadata": {
  "kernelspec": {
   "display_name": "Python 3 (ipykernel)",
   "language": "python",
   "name": "python3"
  },
  "language_info": {
   "codemirror_mode": {
    "name": "ipython",
    "version": 3
   },
   "file_extension": ".py",
   "mimetype": "text/x-python",
   "name": "python",
   "nbconvert_exporter": "python",
   "pygments_lexer": "ipython3",
   "version": "3.8.12"
  },
  "toc": {
   "base_numbering": 1,
   "nav_menu": {},
   "number_sections": true,
   "sideBar": true,
   "skip_h1_title": false,
   "title_cell": "Table of Contents",
   "title_sidebar": "Contents",
   "toc_cell": false,
   "toc_position": {},
   "toc_section_display": true,
   "toc_window_display": false
  }
 },
 "nbformat": 4,
 "nbformat_minor": 5
}
